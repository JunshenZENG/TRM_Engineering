{
 "cells": [
  {
   "cell_type": "code",
   "execution_count": 2,
   "metadata": {
    "collapsed": true
   },
   "outputs": [],
   "source": [
    "from Option_pricing.Engine.black_scholes_model import BlackScholesModel\n",
    "from Option_pricing.test.test import BSUnitTest\n",
    "from Option_pricing.data_processing.data_reader import OptionPricingExcelReader"
   ]
  },
  {
   "cell_type": "markdown",
   "source": [
    "# Option pricing"
   ],
   "metadata": {
    "collapsed": false
   }
  },
  {
   "cell_type": "markdown",
   "source": [
    "## Initial Black Scholes Model object"
   ],
   "metadata": {
    "collapsed": false
   }
  },
  {
   "cell_type": "markdown",
   "source": [
    "### Read input data"
   ],
   "metadata": {
    "collapsed": false
   }
  },
  {
   "cell_type": "code",
   "execution_count": 4,
   "outputs": [],
   "source": [
    "input_reader = OptionPricingExcelReader(input_folder=\"Option_pricing/input\", file_name=\"option_pricing_input.xlsx\")"
   ],
   "metadata": {
    "collapsed": false
   }
  },
  {
   "cell_type": "code",
   "execution_count": 6,
   "outputs": [
    {
     "data": {
      "text/plain": "{'S0': 19,\n 'K': 17,\n 'T': 0.4602739726027397,\n 'r': 0.004987541511038968,\n 'sigma': 0.3,\n 'forward_pricing': False,\n 'div_yield_cont': 0}"
     },
     "execution_count": 6,
     "metadata": {},
     "output_type": "execute_result"
    }
   ],
   "source": [
    "bs_normal_model_input = input_reader.get_input_data()\n",
    "bs_normal_model_input"
   ],
   "metadata": {
    "collapsed": false
   }
  },
  {
   "cell_type": "markdown",
   "source": [
    "### Initial Black Scholes Model object\n",
    "Note that, the BlackScholesModel object can only use spot price to calculate option price and greeks, with the assumption of zero dividend. For continuous dividend paying stock, please adjust the drift of the stock price process first (under risk-neutral Q measurable)."
   ],
   "metadata": {
    "collapsed": false
   }
  },
  {
   "cell_type": "code",
   "execution_count": 7,
   "outputs": [],
   "source": [
    "bs_model = BlackScholesModel(bs_normal_model_input)"
   ],
   "metadata": {
    "collapsed": false
   }
  },
  {
   "cell_type": "markdown",
   "source": [
    "## Calculate option price and greeks\n"
   ],
   "metadata": {
    "collapsed": false
   }
  },
  {
   "cell_type": "code",
   "execution_count": 8,
   "outputs": [
    {
     "data": {
      "text/plain": "           Call       Put\nd1     0.659526  0.659526\nd2     0.455995  0.455995\nPrice  2.696884  0.657903\nDelta  0.745221 -0.254779\nGamma  0.082999  0.082999\nVega   4.137313  4.137313\nTheta  -1.40549 -1.320896\nRho    5.275804 -2.530911",
      "text/html": "<div>\n<style scoped>\n    .dataframe tbody tr th:only-of-type {\n        vertical-align: middle;\n    }\n\n    .dataframe tbody tr th {\n        vertical-align: top;\n    }\n\n    .dataframe thead th {\n        text-align: right;\n    }\n</style>\n<table border=\"1\" class=\"dataframe\">\n  <thead>\n    <tr style=\"text-align: right;\">\n      <th></th>\n      <th>Call</th>\n      <th>Put</th>\n    </tr>\n  </thead>\n  <tbody>\n    <tr>\n      <th>d1</th>\n      <td>0.659526</td>\n      <td>0.659526</td>\n    </tr>\n    <tr>\n      <th>d2</th>\n      <td>0.455995</td>\n      <td>0.455995</td>\n    </tr>\n    <tr>\n      <th>Price</th>\n      <td>2.696884</td>\n      <td>0.657903</td>\n    </tr>\n    <tr>\n      <th>Delta</th>\n      <td>0.745221</td>\n      <td>-0.254779</td>\n    </tr>\n    <tr>\n      <th>Gamma</th>\n      <td>0.082999</td>\n      <td>0.082999</td>\n    </tr>\n    <tr>\n      <th>Vega</th>\n      <td>4.137313</td>\n      <td>4.137313</td>\n    </tr>\n    <tr>\n      <th>Theta</th>\n      <td>-1.40549</td>\n      <td>-1.320896</td>\n    </tr>\n    <tr>\n      <th>Rho</th>\n      <td>5.275804</td>\n      <td>-2.530911</td>\n    </tr>\n  </tbody>\n</table>\n</div>"
     },
     "execution_count": 8,
     "metadata": {},
     "output_type": "execute_result"
    }
   ],
   "source": [
    "bs_model.run()\n",
    "bs_model.print_BS_results()"
   ],
   "metadata": {
    "collapsed": false
   }
  },
  {
   "cell_type": "markdown",
   "source": [
    "## Unit test"
   ],
   "metadata": {
    "collapsed": false
   }
  },
  {
   "cell_type": "markdown",
   "source": [
    "### Initial unit test object"
   ],
   "metadata": {
    "collapsed": false
   }
  },
  {
   "cell_type": "code",
   "execution_count": 9,
   "outputs": [],
   "source": [
    "unit_test = BSUnitTest(input_folder=\"Option_pricing/test/Data\", file_name=\"bs_benchmark_results.xlsx\")"
   ],
   "metadata": {
    "collapsed": false
   }
  },
  {
   "cell_type": "code",
   "execution_count": 10,
   "outputs": [
    {
     "data": {
      "text/plain": "{'in_the_money_call': {'S0': 19,\n  'K': 17,\n  'sigma': 0.3,\n  'T': 0.4602739726027397,\n  'r': 0.004987541511038968,\n  'd1': 0.6595257742458931,\n  'd2': 0.4559952911868521,\n  'call_price': 2.6968842086815044,\n  'put_price': 0.657903164673872},\n 'at_the_money_call': {'S0': 19,\n  'K': 19,\n  'sigma': 0.3,\n  'T': 0.4602739726027397,\n  'r': 0.004987541511038968,\n  'd1': 0.11304431634084026,\n  'd2': -0.09048616671820074,\n  'call_price': 1.560198033116949,\n  'put_price': 1.5166309839319467},\n 'out_of_the_money_call': {'S0': 19,\n  'K': 20,\n  'sigma': 0.3,\n  'T': 0.4602739726027397,\n  'r': 0.004987541511038968,\n  'd1': -0.1389734336129649,\n  'd2': -0.3425039166720059,\n  'call_price': 1.147043011298777,\n  'put_price': 2.10118295952509}}"
     },
     "execution_count": 10,
     "metadata": {},
     "output_type": "execute_result"
    }
   ],
   "source": [
    "unit_test.read_bm_data_excel_input()"
   ],
   "metadata": {
    "collapsed": false
   }
  },
  {
   "cell_type": "markdown",
   "source": [
    "### Run unit test"
   ],
   "metadata": {
    "collapsed": false
   }
  },
  {
   "cell_type": "code",
   "execution_count": 11,
   "outputs": [],
   "source": [
    "unit_test.run_unit_test()"
   ],
   "metadata": {
    "collapsed": false
   }
  }
 ],
 "metadata": {
  "kernelspec": {
   "display_name": "Python 3",
   "language": "python",
   "name": "python3"
  },
  "language_info": {
   "codemirror_mode": {
    "name": "ipython",
    "version": 2
   },
   "file_extension": ".py",
   "mimetype": "text/x-python",
   "name": "python",
   "nbconvert_exporter": "python",
   "pygments_lexer": "ipython2",
   "version": "2.7.6"
  }
 },
 "nbformat": 4,
 "nbformat_minor": 0
}
